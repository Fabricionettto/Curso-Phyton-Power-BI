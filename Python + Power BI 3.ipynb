{
 "cells": [
  {
   "cell_type": "code",
   "execution_count": 1,
   "id": "d17bdad1",
   "metadata": {},
   "outputs": [],
   "source": [
    "import pandas as pd\n",
    "import seaborn as sns\n",
    "import matplotlib.pyplot as plt\n",
    "from scipy.stats import linregress"
   ]
  },
  {
   "cell_type": "code",
   "execution_count": 2,
   "id": "657b72f0",
   "metadata": {},
   "outputs": [],
   "source": [
    "df1 =pd.read_excel(\"D:/Curso Python/Python + Power BI/hotel_revenue_historical_full.xlsx\", sheet_name=\"2018\")\n",
    "df2 =pd.read_excel(\"D:/Curso Python/Python + Power BI/hotel_revenue_historical_full.xlsx\", sheet_name=\"2019\")\n",
    "df3 =pd.read_excel(\"D:/Curso Python/Python + Power BI/hotel_revenue_historical_full.xlsx\", sheet_name=\"2020\")\n",
    "full_dataset =pd.concat([df1,df2,df3])\n"
   ]
  },
  {
   "cell_type": "code",
   "execution_count": 3,
   "id": "ff4dffb9",
   "metadata": {},
   "outputs": [
    {
     "data": {
      "text/html": [
       "<div>\n",
       "<style scoped>\n",
       "    .dataframe tbody tr th:only-of-type {\n",
       "        vertical-align: middle;\n",
       "    }\n",
       "\n",
       "    .dataframe tbody tr th {\n",
       "        vertical-align: top;\n",
       "    }\n",
       "\n",
       "    .dataframe thead th {\n",
       "        text-align: right;\n",
       "    }\n",
       "</style>\n",
       "<table border=\"1\" class=\"dataframe\">\n",
       "  <thead>\n",
       "    <tr style=\"text-align: right;\">\n",
       "      <th></th>\n",
       "      <th>hotel</th>\n",
       "      <th>is_canceled</th>\n",
       "      <th>lead_time</th>\n",
       "      <th>arrival_date_year</th>\n",
       "      <th>arrival_date_month</th>\n",
       "      <th>arrival_date_week_number</th>\n",
       "      <th>arrival_date_day_of_month</th>\n",
       "      <th>stays_in_weekend_nights</th>\n",
       "      <th>stays_in_week_nights</th>\n",
       "      <th>adults</th>\n",
       "      <th>...</th>\n",
       "      <th>deposit_type</th>\n",
       "      <th>agent</th>\n",
       "      <th>company</th>\n",
       "      <th>days_in_waiting_list</th>\n",
       "      <th>customer_type</th>\n",
       "      <th>adr</th>\n",
       "      <th>required_car_parking_spaces</th>\n",
       "      <th>total_of_special_requests</th>\n",
       "      <th>reservation_status</th>\n",
       "      <th>reservation_status_date</th>\n",
       "    </tr>\n",
       "  </thead>\n",
       "  <tbody>\n",
       "    <tr>\n",
       "      <th>40682</th>\n",
       "      <td>City Hotel</td>\n",
       "      <td>1</td>\n",
       "      <td>1</td>\n",
       "      <td>2020</td>\n",
       "      <td>February</td>\n",
       "      <td>5</td>\n",
       "      <td>1</td>\n",
       "      <td>0</td>\n",
       "      <td>0</td>\n",
       "      <td>1</td>\n",
       "      <td>...</td>\n",
       "      <td>No Deposit</td>\n",
       "      <td>NaN</td>\n",
       "      <td>153.0</td>\n",
       "      <td>0</td>\n",
       "      <td>Transient</td>\n",
       "      <td>0.0</td>\n",
       "      <td>0</td>\n",
       "      <td>1</td>\n",
       "      <td>No-Show</td>\n",
       "      <td>2020-02-01</td>\n",
       "    </tr>\n",
       "    <tr>\n",
       "      <th>40683</th>\n",
       "      <td>City Hotel</td>\n",
       "      <td>1</td>\n",
       "      <td>31</td>\n",
       "      <td>2020</td>\n",
       "      <td>July</td>\n",
       "      <td>29</td>\n",
       "      <td>16</td>\n",
       "      <td>2</td>\n",
       "      <td>0</td>\n",
       "      <td>1</td>\n",
       "      <td>...</td>\n",
       "      <td>No Deposit</td>\n",
       "      <td>NaN</td>\n",
       "      <td>NaN</td>\n",
       "      <td>0</td>\n",
       "      <td>Transient</td>\n",
       "      <td>135.0</td>\n",
       "      <td>0</td>\n",
       "      <td>2</td>\n",
       "      <td>No-Show</td>\n",
       "      <td>2020-07-16</td>\n",
       "    </tr>\n",
       "    <tr>\n",
       "      <th>40684</th>\n",
       "      <td>City Hotel</td>\n",
       "      <td>1</td>\n",
       "      <td>25</td>\n",
       "      <td>2020</td>\n",
       "      <td>May</td>\n",
       "      <td>18</td>\n",
       "      <td>6</td>\n",
       "      <td>2</td>\n",
       "      <td>1</td>\n",
       "      <td>1</td>\n",
       "      <td>...</td>\n",
       "      <td>No Deposit</td>\n",
       "      <td>NaN</td>\n",
       "      <td>450.0</td>\n",
       "      <td>0</td>\n",
       "      <td>Transient</td>\n",
       "      <td>125.0</td>\n",
       "      <td>0</td>\n",
       "      <td>0</td>\n",
       "      <td>No-Show</td>\n",
       "      <td>2020-05-06</td>\n",
       "    </tr>\n",
       "    <tr>\n",
       "      <th>40685</th>\n",
       "      <td>City Hotel</td>\n",
       "      <td>1</td>\n",
       "      <td>6</td>\n",
       "      <td>2020</td>\n",
       "      <td>July</td>\n",
       "      <td>29</td>\n",
       "      <td>17</td>\n",
       "      <td>1</td>\n",
       "      <td>0</td>\n",
       "      <td>1</td>\n",
       "      <td>...</td>\n",
       "      <td>No Deposit</td>\n",
       "      <td>NaN</td>\n",
       "      <td>238.0</td>\n",
       "      <td>0</td>\n",
       "      <td>Transient</td>\n",
       "      <td>65.0</td>\n",
       "      <td>0</td>\n",
       "      <td>0</td>\n",
       "      <td>No-Show</td>\n",
       "      <td>2020-07-17</td>\n",
       "    </tr>\n",
       "    <tr>\n",
       "      <th>40686</th>\n",
       "      <td>City Hotel</td>\n",
       "      <td>1</td>\n",
       "      <td>0</td>\n",
       "      <td>2020</td>\n",
       "      <td>August</td>\n",
       "      <td>31</td>\n",
       "      <td>2</td>\n",
       "      <td>0</td>\n",
       "      <td>2</td>\n",
       "      <td>1</td>\n",
       "      <td>...</td>\n",
       "      <td>No Deposit</td>\n",
       "      <td>NaN</td>\n",
       "      <td>40.0</td>\n",
       "      <td>0</td>\n",
       "      <td>Transient</td>\n",
       "      <td>65.0</td>\n",
       "      <td>0</td>\n",
       "      <td>1</td>\n",
       "      <td>No-Show</td>\n",
       "      <td>2020-08-02</td>\n",
       "    </tr>\n",
       "  </tbody>\n",
       "</table>\n",
       "<p>5 rows × 32 columns</p>\n",
       "</div>"
      ],
      "text/plain": [
       "            hotel  is_canceled  lead_time  arrival_date_year  \\\n",
       "40682  City Hotel            1          1               2020   \n",
       "40683  City Hotel            1         31               2020   \n",
       "40684  City Hotel            1         25               2020   \n",
       "40685  City Hotel            1          6               2020   \n",
       "40686  City Hotel            1          0               2020   \n",
       "\n",
       "      arrival_date_month  arrival_date_week_number  arrival_date_day_of_month  \\\n",
       "40682           February                         5                          1   \n",
       "40683               July                        29                         16   \n",
       "40684                May                        18                          6   \n",
       "40685               July                        29                         17   \n",
       "40686             August                        31                          2   \n",
       "\n",
       "       stays_in_weekend_nights  stays_in_week_nights  adults  ...  \\\n",
       "40682                        0                     0       1  ...   \n",
       "40683                        2                     0       1  ...   \n",
       "40684                        2                     1       1  ...   \n",
       "40685                        1                     0       1  ...   \n",
       "40686                        0                     2       1  ...   \n",
       "\n",
       "       deposit_type  agent company days_in_waiting_list customer_type    adr  \\\n",
       "40682    No Deposit    NaN   153.0                    0     Transient    0.0   \n",
       "40683    No Deposit    NaN     NaN                    0     Transient  135.0   \n",
       "40684    No Deposit    NaN   450.0                    0     Transient  125.0   \n",
       "40685    No Deposit    NaN   238.0                    0     Transient   65.0   \n",
       "40686    No Deposit    NaN    40.0                    0     Transient   65.0   \n",
       "\n",
       "       required_car_parking_spaces  total_of_special_requests  \\\n",
       "40682                            0                          1   \n",
       "40683                            0                          2   \n",
       "40684                            0                          0   \n",
       "40685                            0                          0   \n",
       "40686                            0                          1   \n",
       "\n",
       "       reservation_status reservation_status_date  \n",
       "40682             No-Show              2020-02-01  \n",
       "40683             No-Show              2020-07-16  \n",
       "40684             No-Show              2020-05-06  \n",
       "40685             No-Show              2020-07-17  \n",
       "40686             No-Show              2020-08-02  \n",
       "\n",
       "[5 rows x 32 columns]"
      ]
     },
     "execution_count": 3,
     "metadata": {},
     "output_type": "execute_result"
    }
   ],
   "source": [
    "full_dataset.tail(5)\n"
   ]
  },
  {
   "cell_type": "code",
   "execution_count": 4,
   "id": "6240dfde",
   "metadata": {},
   "outputs": [
    {
     "name": "stdout",
     "output_type": "stream",
     "text": [
      "<class 'pandas.core.frame.DataFrame'>\n",
      "Int64Index: 141947 entries, 0 to 40686\n",
      "Data columns (total 32 columns):\n",
      " #   Column                          Non-Null Count   Dtype         \n",
      "---  ------                          --------------   -----         \n",
      " 0   hotel                           141947 non-null  object        \n",
      " 1   is_canceled                     141947 non-null  int64         \n",
      " 2   lead_time                       141947 non-null  int64         \n",
      " 3   arrival_date_year               141947 non-null  int64         \n",
      " 4   arrival_date_month              141947 non-null  object        \n",
      " 5   arrival_date_week_number        141947 non-null  int64         \n",
      " 6   arrival_date_day_of_month       141947 non-null  int64         \n",
      " 7   stays_in_weekend_nights         141947 non-null  int64         \n",
      " 8   stays_in_week_nights            141947 non-null  int64         \n",
      " 9   adults                          141947 non-null  int64         \n",
      " 10  children                        141939 non-null  float64       \n",
      " 11  babies                          141947 non-null  int64         \n",
      " 12  meal                            141947 non-null  object        \n",
      " 13  country                         141322 non-null  object        \n",
      " 14  market_segment                  141947 non-null  object        \n",
      " 15  distribution_channel            141947 non-null  object        \n",
      " 16  is_repeated_guest               141947 non-null  int64         \n",
      " 17  previous_cancellations          141947 non-null  int64         \n",
      " 18  previous_bookings_not_canceled  141947 non-null  int64         \n",
      " 19  reserved_room_type              141947 non-null  object        \n",
      " 20  assigned_room_type              141947 non-null  object        \n",
      " 21  booking_changes                 141947 non-null  int64         \n",
      " 22  deposit_type                    141947 non-null  object        \n",
      " 23  agent                           122392 non-null  float64       \n",
      " 24  company                         8125 non-null    float64       \n",
      " 25  days_in_waiting_list            141947 non-null  int64         \n",
      " 26  customer_type                   141947 non-null  object        \n",
      " 27  adr                             141947 non-null  float64       \n",
      " 28  required_car_parking_spaces     141947 non-null  int64         \n",
      " 29  total_of_special_requests       141947 non-null  int64         \n",
      " 30  reservation_status              141947 non-null  object        \n",
      " 31  reservation_status_date         141947 non-null  datetime64[ns]\n",
      "dtypes: datetime64[ns](1), float64(4), int64(16), object(11)\n",
      "memory usage: 35.7+ MB\n"
     ]
    }
   ],
   "source": [
    "full_dataset.info()"
   ]
  },
  {
   "cell_type": "code",
   "execution_count": 5,
   "id": "d534172d",
   "metadata": {},
   "outputs": [
    {
     "data": {
      "text/plain": [
       "Index(['hotel', 'is_canceled', 'lead_time', 'arrival_date_year',\n",
       "       'arrival_date_month', 'arrival_date_week_number',\n",
       "       'arrival_date_day_of_month', 'stays_in_weekend_nights',\n",
       "       'stays_in_week_nights', 'adults', 'children', 'babies', 'meal',\n",
       "       'country', 'market_segment', 'distribution_channel',\n",
       "       'is_repeated_guest', 'previous_cancellations',\n",
       "       'previous_bookings_not_canceled', 'reserved_room_type',\n",
       "       'assigned_room_type', 'booking_changes', 'deposit_type', 'agent',\n",
       "       'company', 'days_in_waiting_list', 'customer_type', 'adr',\n",
       "       'required_car_parking_spaces', 'total_of_special_requests',\n",
       "       'reservation_status', 'reservation_status_date'],\n",
       "      dtype='object')"
      ]
     },
     "execution_count": 5,
     "metadata": {},
     "output_type": "execute_result"
    }
   ],
   "source": [
    "full_dataset.columns"
   ]
  },
  {
   "cell_type": "code",
   "execution_count": 6,
   "id": "85a7d009",
   "metadata": {},
   "outputs": [
    {
     "data": {
      "text/plain": [
       "0    0.627755\n",
       "1    0.372245\n",
       "Name: is_canceled, dtype: float64"
      ]
     },
     "execution_count": 6,
     "metadata": {},
     "output_type": "execute_result"
    }
   ],
   "source": [
    "full_dataset['is_canceled'].value_counts(normalize=True)"
   ]
  },
  {
   "cell_type": "code",
   "execution_count": 7,
   "id": "ad338a4d",
   "metadata": {},
   "outputs": [
    {
     "name": "stdout",
     "output_type": "stream",
     "text": [
      "<class 'pandas.core.frame.DataFrame'>\n",
      "Int64Index: 89108 entries, 7951 to 40338\n",
      "Data columns (total 32 columns):\n",
      " #   Column                          Non-Null Count  Dtype         \n",
      "---  ------                          --------------  -----         \n",
      " 0   hotel                           89108 non-null  object        \n",
      " 1   is_canceled                     89108 non-null  int64         \n",
      " 2   lead_time                       89108 non-null  int64         \n",
      " 3   arrival_date_year               89108 non-null  int64         \n",
      " 4   arrival_date_month              89108 non-null  object        \n",
      " 5   arrival_date_week_number        89108 non-null  int64         \n",
      " 6   arrival_date_day_of_month       89108 non-null  int64         \n",
      " 7   stays_in_weekend_nights         89108 non-null  int64         \n",
      " 8   stays_in_week_nights            89108 non-null  int64         \n",
      " 9   adults                          89108 non-null  int64         \n",
      " 10  children                        89108 non-null  float64       \n",
      " 11  babies                          89108 non-null  int64         \n",
      " 12  meal                            89108 non-null  object        \n",
      " 13  country                         88586 non-null  object        \n",
      " 14  market_segment                  89108 non-null  object        \n",
      " 15  distribution_channel            89108 non-null  object        \n",
      " 16  is_repeated_guest               89108 non-null  int64         \n",
      " 17  previous_cancellations          89108 non-null  int64         \n",
      " 18  previous_bookings_not_canceled  89108 non-null  int64         \n",
      " 19  reserved_room_type              89108 non-null  object        \n",
      " 20  assigned_room_type              89108 non-null  object        \n",
      " 21  booking_changes                 89108 non-null  int64         \n",
      " 22  deposit_type                    89108 non-null  object        \n",
      " 23  agent                           74357 non-null  float64       \n",
      " 24  company                         6667 non-null   float64       \n",
      " 25  days_in_waiting_list            89108 non-null  int64         \n",
      " 26  customer_type                   89108 non-null  object        \n",
      " 27  adr                             89108 non-null  float64       \n",
      " 28  required_car_parking_spaces     89108 non-null  int64         \n",
      " 29  total_of_special_requests       89108 non-null  int64         \n",
      " 30  reservation_status              89108 non-null  object        \n",
      " 31  reservation_status_date         89108 non-null  datetime64[ns]\n",
      "dtypes: datetime64[ns](1), float64(4), int64(16), object(11)\n",
      "memory usage: 22.4+ MB\n"
     ]
    }
   ],
   "source": [
    "filtered_data = full_dataset[full_dataset['is_canceled']!=1]\n",
    "filtered_data.info()"
   ]
  },
  {
   "cell_type": "code",
   "execution_count": 8,
   "id": "de0b496b",
   "metadata": {},
   "outputs": [
    {
     "name": "stderr",
     "output_type": "stream",
     "text": [
      "C:\\Users\\user\\anaconda3\\lib\\site-packages\\seaborn\\distributions.py:2619: FutureWarning: `distplot` is a deprecated function and will be removed in a future version. Please adapt your code to use either `displot` (a figure-level function with similar flexibility) or `histplot` (an axes-level function for histograms).\n",
      "  warnings.warn(msg, FutureWarning)\n"
     ]
    },
    {
     "data": {
      "text/plain": [
       "<AxesSubplot:xlabel='adr', ylabel='Density'>"
      ]
     },
     "execution_count": 8,
     "metadata": {},
     "output_type": "execute_result"
    },
    {
     "data": {
      "image/png": "[encoded data removed]",
      "text/plain": [
       "<Figure size 432x288 with 1 Axes>"
      ]
     },
     "metadata": {
      "needs_background": "light"
     },
     "output_type": "display_data"
    }
   ],
   "source": [
    "sns.distplot(filtered_data['adr'])"
   ]
  },
  {
   "cell_type": "code",
   "execution_count": 9,
   "id": "6c55de83",
   "metadata": {},
   "outputs": [
    {
     "name": "stderr",
     "output_type": "stream",
     "text": [
      "C:\\Users\\user\\anaconda3\\lib\\site-packages\\seaborn\\distributions.py:2619: FutureWarning: `distplot` is a deprecated function and will be removed in a future version. Please adapt your code to use either `displot` (a figure-level function with similar flexibility) or `histplot` (an axes-level function for histograms).\n",
      "  warnings.warn(msg, FutureWarning)\n"
     ]
    },
    {
     "data": {
      "text/plain": [
       "<AxesSubplot:xlabel='lead_time', ylabel='Density'>"
      ]
     },
     "execution_count": 9,
     "metadata": {},
     "output_type": "execute_result"
    },
    {
     "data": {
      "image/png": "[encoded data removed]",
      "text/plain": [
       "<Figure size 432x288 with 1 Axes>"
      ]
     },
     "metadata": {
      "needs_background": "light"
     },
     "output_type": "display_data"
    }
   ],
   "source": [
    "sns.distplot(filtered_data['lead_time'])"
   ]
  },
  {
   "cell_type": "code",
   "execution_count": 11,
   "id": "407ba60b",
   "metadata": {},
   "outputs": [
    {
     "data": {
      "text/plain": [
       "Text(0.5, 1.0, 'The mean is 76.89')"
      ]
     },
     "execution_count": 11,
     "metadata": {},
     "output_type": "execute_result"
    },
    {
     "data": {
      "image/png": "[encoded data removed]",
      "text/plain": [
       "<Figure size 360x360 with 1 Axes>"
      ]
     },
     "metadata": {
      "needs_background": "light"
     },
     "output_type": "display_data"
    }
   ],
   "source": [
    "plt.figure(figsize=(5,5))\n",
    "sns.boxplot(y=filtered_data['lead_time'], showfliers=False)\n",
    "plt.title(f\"The mean is {filtered_data['lead_time'].mean():.2f}\")"
   ]
  },
  {
   "cell_type": "code",
   "execution_count": 12,
   "id": "232e94c7",
   "metadata": {},
   "outputs": [
    {
     "data": {
      "text/plain": [
       "Text(0.5, 1.0, 'The mean is 76.89')"
      ]
     },
     "execution_count": 12,
     "metadata": {},
     "output_type": "execute_result"
    },
    {
     "data": {
      "image/png": "[encoded data removed]",
      "text/plain": [
       "<Figure size 360x360 with 1 Axes>"
      ]
     },
     "metadata": {
      "needs_background": "light"
     },
     "output_type": "display_data"
    }
   ],
   "source": [
    "plt.figure(figsize=(5,5))\n",
    "sns.boxplot(data =filtered_data, y='lead_time',x='hotel',showfliers=False)\n",
    "plt.title(f\"The mean is {filtered_data['lead_time'].mean():.2f}\")"
   ]
  },
  {
   "cell_type": "code",
   "execution_count": 13,
   "id": "29945ed1",
   "metadata": {},
   "outputs": [
    {
     "data": {
      "text/plain": [
       "Text(0.5, 1.0, 'The mean is 76.89')"
      ]
     },
     "execution_count": 13,
     "metadata": {},
     "output_type": "execute_result"
    },
    {
     "data": {
      "image/png": "[encoded data removed]",
      "text/plain": [
       "<Figure size 360x360 with 1 Axes>"
      ]
     },
     "metadata": {
      "needs_background": "light"
     },
     "output_type": "display_data"
    }
   ],
   "source": [
    "plt.figure(figsize=(5,5))\n",
    "sns.violinplot(data =filtered_data, y='lead_time',x='hotel')\n",
    "plt.title(f\"The mean is {filtered_data['lead_time'].mean():.2f}\")"
   ]
  },
  {
   "cell_type": "code",
   "execution_count": 17,
   "id": "61a12f1a",
   "metadata": {},
   "outputs": [
    {
     "data": {
      "image/png": "[encoded data removed]",
      "text/plain": [
       "<Figure size 360x360 with 1 Axes>"
      ]
     },
     "metadata": {
      "needs_background": "light"
     },
     "output_type": "display_data"
    }
   ],
   "source": [
    "plt.figure(figsize=(5,5))\n",
    "sns.boxenplot(data =filtered_data, y='lead_time',x='hotel')\n",
    "resort_mean =filtered_data[filtered_data['hotel']=='Resort Hotel']['lead_time'].mean()\n",
    "city_mean =filtered_data[filtered_data['hotel']=='City Hotel']['lead_time'].mean()\n",
    "plt.title(f\"The mean is {filtered_data['lead_time'].mean():.2f} and Resort Mean is {resort_mean:.2f} and the City Mean is {city_mean: .2f}\");"
   ]
  },
  {
   "cell_type": "code",
   "execution_count": 18,
   "id": "f20dee2d",
   "metadata": {},
   "outputs": [
    {
     "data": {
      "image/png": "[encoded data removed]",
      "text/plain": [
       "<Figure size 360x360 with 1 Axes>"
      ]
     },
     "metadata": {
      "needs_background": "light"
     },
     "output_type": "display_data"
    }
   ],
   "source": [
    "plt.figure(figsize=(5,5))\n",
    "sns.violinplot(data =filtered_data, y='lead_time',x='hotel')\n",
    "resort_mean =filtered_data[filtered_data['hotel']=='Resort Hotel']['lead_time'].mean()\n",
    "city_mean =filtered_data[filtered_data['hotel']=='City Hotel']['lead_time'].mean()\n",
    "plt.title(f\"The mean is {filtered_data['lead_time'].mean():.2f} and Resort Mean is {resort_mean:.2f} and the City Mean is {city_mean: .2f}\");"
   ]
  },
  {
   "cell_type": "code",
   "execution_count": null,
   "id": "f7c16293",
   "metadata": {},
   "outputs": [],
   "source": []
  },
  {
   "cell_type": "code",
   "execution_count": null,
   "id": "56193ff0",
   "metadata": {},
   "outputs": [],
   "source": []
  },
  {
   "cell_type": "code",
   "execution_count": null,
   "id": "e4f13dc8",
   "metadata": {},
   "outputs": [],
   "source": []
  },
  {
   "cell_type": "code",
   "execution_count": null,
   "id": "bf662952",
   "metadata": {},
   "outputs": [],
   "source": []
  },
  {
   "cell_type": "code",
   "execution_count": null,
   "id": "e55701cd",
   "metadata": {},
   "outputs": [],
   "source": []
  },
  {
   "cell_type": "code",
   "execution_count": null,
   "id": "4b5df6b9",
   "metadata": {},
   "outputs": [],
   "source": []
  },
  {
   "cell_type": "code",
   "execution_count": null,
   "id": "cc58e19d",
   "metadata": {},
   "outputs": [],
   "source": []
  }
 ],
 "metadata": {
  "kernelspec": {
   "display_name": "Python 3.10.5 64-bit",
   "language": "python",
   "name": "python3"
  },
  "language_info": {
   "codemirror_mode": {
    "name": "ipython",
    "version": 3
   },
   "file_extension": ".py",
   "mimetype": "text/x-python",
   "name": "python",
   "nbconvert_exporter": "python",
   "pygments_lexer": "ipython3",
   "version": "3.10.5"
  },
  "vscode": {
   "interpreter": {
    "hash": "369f2c481f4da34e4445cda3fffd2e751bd1c4d706f27375911949ba6bb62e1c"
   }
  }
 },
 "nbformat": 4,
 "nbformat_minor": 5
}
